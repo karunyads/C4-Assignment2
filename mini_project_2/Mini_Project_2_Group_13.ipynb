{
 "cells": [
  {
   "cell_type": "markdown",
   "metadata": {},
   "source": [
    "# Unsupervised Learning : Mini-project 2"
   ]
  },
  {
   "cell_type": "markdown",
   "metadata": {},
   "source": [
    "TEAM Details:\n",
    "\n",
    "<b>Group ID</b> - 13 <br>\n",
    "\n",
    "<b>Group Members</b>:<br>\n",
    "2020AIML030 - Karunya DS <br>\n",
    "2020AIML069 - Samtani Edwin<br>\n",
    "2020AIML022 - Apoorva ventra<br>"
   ]
  },
  {
   "cell_type": "markdown",
   "metadata": {},
   "source": [
    "Medicine Dataset. The dataset is a CSV file with each row containing a tweet.\n",
    "\n",
    "Tasks: \n",
    "\n",
    "#### Data Preprocessing  [4 points]\n",
    "1. Read the text data from the csv file\n",
    "2. Convert the variable into corresponding feature vectors as below. Perform pre-processing step of stopword removal , special character removal , converting the text to the lower case , remove Url’s if any  from text.  [1 pt]\n",
    "3. For each title text, convert it into corresponding TF-IDF vector. [1 pt]\n",
    "4. TF-IDF vectors are sparse and of large dimension. Reduce them into only 2 dimensions using PCA. [2 pt]\n",
    "\n",
    "#### Perform K-means clustering for different values of K (2,3,4) and evaluate the quality of clustering using Silhouette score. [4 points]\n",
    "1. For each value of K, plot clusters (all cluster points in same cluster with same color, cluster points in different cluster in different colors). [2 pt]\n",
    "2. Draw a bar graph with X-axis as K value and Y-axis as silhouette score. [1 pt]\n",
    "3. Explain (1-2 lines) which is the best clustering and why. [1 pt]\n",
    "\n",
    "#### Consider the pre-processed text of all the sentences and find words that frequently occur together. [4 points]\n",
    "1. More specifically, find association rules of minimum length 2 with 20% confidence and 10% support. Other parameters you are free to decide on your own. How many such rules are there? List all the rules. Interpret any one rule. [2 pt]\n",
    "2. Draw a line graph with Y-axis as number of association rules of minimum length 2, and X-axis as confidence percentage (ranging from 0%, 10%, 20%, ...., 100%). Plot different colored lines for different support percentage (take values as 10%, 20%, and 50%) [2 pt]"
   ]
  },
  {
   "cell_type": "markdown",
   "metadata": {},
   "source": [
    "## Import required libraries"
   ]
  },
  {
   "cell_type": "code",
   "execution_count": 2,
   "metadata": {},
   "outputs": [],
   "source": [
    "import numpy as np\n",
    "import pandas as pd\n",
    "import matplotlib.pyplot as plt\n",
    "import seaborn as sns\n",
    "\n",
    "from sklearn.preprocessing import StandardScaler\n",
    "\n",
    "from sklearn.cluster import KMeans\n",
    "\n",
    "%matplotlib inline"
   ]
  },
  {
   "cell_type": "markdown",
   "metadata": {},
   "source": [
    "## Load Dataset"
   ]
  },
  {
   "cell_type": "code",
   "execution_count": 4,
   "metadata": {},
   "outputs": [],
   "source": [
    "data_df = pd.read_csv('problem_statement_4.csv')"
   ]
  },
  {
   "cell_type": "markdown",
   "metadata": {},
   "source": [
    "## Get dimensionality of the data"
   ]
  },
  {
   "cell_type": "code",
   "execution_count": 7,
   "metadata": {},
   "outputs": [
    {
     "name": "stdout",
     "output_type": "stream",
     "text": [
      "Number of Records : 9470 \n",
      "Number of variables : 1\n"
     ]
    }
   ],
   "source": [
    "print(\"Number of Records : {} \\nNumber of variables : {}\".format(data_df.shape[0], data_df.shape[1]))"
   ]
  },
  {
   "cell_type": "markdown",
   "metadata": {},
   "source": [
    "## Overview of data"
   ]
  },
  {
   "cell_type": "code",
   "execution_count": 8,
   "metadata": {},
   "outputs": [
    {
     "data": {
      "text/html": [
       "<div>\n",
       "<style scoped>\n",
       "    .dataframe tbody tr th:only-of-type {\n",
       "        vertical-align: middle;\n",
       "    }\n",
       "\n",
       "    .dataframe tbody tr th {\n",
       "        vertical-align: top;\n",
       "    }\n",
       "\n",
       "    .dataframe thead th {\n",
       "        text-align: right;\n",
       "    }\n",
       "</style>\n",
       "<table border=\"1\" class=\"dataframe\">\n",
       "  <thead>\n",
       "    <tr style=\"text-align: right;\">\n",
       "      <th></th>\n",
       "      <th>headline</th>\n",
       "    </tr>\n",
       "  </thead>\n",
       "  <tbody>\n",
       "    <tr>\n",
       "      <th>0</th>\n",
       "      <td>$MMM fell on hard times but could be set to re...</td>\n",
       "    </tr>\n",
       "    <tr>\n",
       "      <th>1</th>\n",
       "      <td>Wolfe Research Upgrades 3M $MMM to ��Peer Perf...</td>\n",
       "    </tr>\n",
       "    <tr>\n",
       "      <th>2</th>\n",
       "      <td>3M $MMM Upgraded to ��Peer Perform�� by Wolfe ...</td>\n",
       "    </tr>\n",
       "    <tr>\n",
       "      <th>3</th>\n",
       "      <td>$MMM #insideday follow up as it also opened up...</td>\n",
       "    </tr>\n",
       "    <tr>\n",
       "      <th>4</th>\n",
       "      <td>$MMM is best #dividend #stock out there and do...</td>\n",
       "    </tr>\n",
       "    <tr>\n",
       "      <th>5</th>\n",
       "      <td>$MMM - 3M: The Fallen Dividend King Will Be Ba...</td>\n",
       "    </tr>\n",
       "    <tr>\n",
       "      <th>6</th>\n",
       "      <td>$MMMcelebrates New Year with 7 month high clos...</td>\n",
       "    </tr>\n",
       "    <tr>\n",
       "      <th>7</th>\n",
       "      <td>$MMM above 180 baby is going higher</td>\n",
       "    </tr>\n",
       "    <tr>\n",
       "      <th>8</th>\n",
       "      <td>$MMMhasn't really done much this year, but it ...</td>\n",
       "    </tr>\n",
       "    <tr>\n",
       "      <th>9</th>\n",
       "      <td>3M $MMM Rating Increased to Neutral at JPMorga...</td>\n",
       "    </tr>\n",
       "  </tbody>\n",
       "</table>\n",
       "</div>"
      ],
      "text/plain": [
       "                                            headline\n",
       "0  $MMM fell on hard times but could be set to re...\n",
       "1  Wolfe Research Upgrades 3M $MMM to ��Peer Perf...\n",
       "2  3M $MMM Upgraded to ��Peer Perform�� by Wolfe ...\n",
       "3  $MMM #insideday follow up as it also opened up...\n",
       "4  $MMM is best #dividend #stock out there and do...\n",
       "5  $MMM - 3M: The Fallen Dividend King Will Be Ba...\n",
       "6  $MMMcelebrates New Year with 7 month high clos...\n",
       "7               $MMM above 180 baby is going higher \n",
       "8  $MMMhasn't really done much this year, but it ...\n",
       "9  3M $MMM Rating Increased to Neutral at JPMorga..."
      ]
     },
     "execution_count": 8,
     "metadata": {},
     "output_type": "execute_result"
    }
   ],
   "source": [
    "data_df.head(10)"
   ]
  },
  {
   "cell_type": "code",
   "execution_count": null,
   "metadata": {},
   "outputs": [],
   "source": []
  }
 ],
 "metadata": {
  "kernelspec": {
   "display_name": "Python 3",
   "language": "python",
   "name": "python3"
  },
  "language_info": {
   "codemirror_mode": {
    "name": "ipython",
    "version": 3
   },
   "file_extension": ".py",
   "mimetype": "text/x-python",
   "name": "python",
   "nbconvert_exporter": "python",
   "pygments_lexer": "ipython3",
   "version": "3.8.5"
  }
 },
 "nbformat": 4,
 "nbformat_minor": 4
}
